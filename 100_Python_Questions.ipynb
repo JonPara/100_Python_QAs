{
 "cells": [
  {
   "cell_type": "code",
   "execution_count": 1,
   "metadata": {},
   "outputs": [
    {
     "name": "stdout",
     "output_type": "stream",
     "text": [
      "18\n"
     ]
    }
   ],
   "source": [
    "# Question 1:\n",
    "\n",
    "# What will the following code produce?\n",
    "# a = 2\n",
    "# a = 4\n",
    "# a = 6\n",
    "# print(a + a + a)\n",
    "\n",
    "\n",
    "# Answer is 18 (1 point)\n",
    "\n",
    "a = 2\n",
    "a = 4\n",
    "a = 6\n",
    "print(a*3)"
   ]
  },
  {
   "cell_type": "code",
   "execution_count": 2,
   "metadata": {
    "collapsed": true
   },
   "outputs": [],
   "source": [
    "# Question 2\n",
    "\n",
    "# Question: What's wrong with the following script?\n",
    "\n",
    "# a = 1\n",
    "# _a = 2\n",
    "# _a2 = 3\n",
    "# 2a = 4\n",
    "\n",
    "# You cannot have a number at the beginning of a variable name (1 point)\n"
   ]
  },
  {
   "cell_type": "code",
   "execution_count": 3,
   "metadata": {
    "collapsed": true
   },
   "outputs": [],
   "source": [
    "# Question 3\n",
    "\n",
    "#  Executing the code will throw an error. Can you explain why?\n",
    "\n",
    "# a = 1\n",
    "# b = 2\n",
    "# print(a == b)\n",
    "# print(b == c)\n",
    "\n",
    "# \"c\" is not defined (1 point)"
   ]
  },
  {
   "cell_type": "code",
   "execution_count": 4,
   "metadata": {},
   "outputs": [
    {
     "name": "stdout",
     "output_type": "stream",
     "text": [
      "3\n"
     ]
    }
   ],
   "source": [
    "# Question 4 (1 point)\n",
    "\n",
    "# Question: Fix the last line so that it outputs the sum of 1 and 2. Please do not change the first two lines. Only the last one.\n",
    "\n",
    "# a = \"1\"\n",
    "# b = 2\n",
    "# print(a + b)\n",
    "\n",
    "a = \"1\"\n",
    "b = 2\n",
    "print(int(a) + b)"
   ]
  },
  {
   "cell_type": "code",
   "execution_count": 5,
   "metadata": {},
   "outputs": [
    {
     "data": {
      "text/plain": [
       "'b'"
      ]
     },
     "execution_count": 5,
     "metadata": {},
     "output_type": "execute_result"
    }
   ],
   "source": [
    "# Question 5 (1 point)\n",
    "\n",
    "# Question: Complete the script so that it prints out the second item of the list.\n",
    "\n",
    "# letters = [\"a\", \"b\", \"c\", \"d\", \"e\", \"f\", \"g\", \"h\", \"i\", \"j\"]\n",
    "\n",
    "letters = [\"a\", \"b\", \"c\", \"d\", \"e\", \"f\", \"g\", \"h\", \"i\", \"j\"]\n",
    "letters[1]"
   ]
  },
  {
   "cell_type": "code",
   "execution_count": 6,
   "metadata": {},
   "outputs": [
    {
     "data": {
      "text/plain": [
       "['d', 'e', 'f']"
      ]
     },
     "execution_count": 6,
     "metadata": {},
     "output_type": "execute_result"
    }
   ],
   "source": [
    "# Question 6 (1 point)\n",
    "\n",
    "# Question: Please complete the script so that it prints out a list slice containing items d , e , and f .\n",
    "\n",
    "letters[3:6]"
   ]
  },
  {
   "cell_type": "code",
   "execution_count": 7,
   "metadata": {},
   "outputs": [
    {
     "data": {
      "text/plain": [
       "['a', 'b', 'c']"
      ]
     },
     "execution_count": 7,
     "metadata": {},
     "output_type": "execute_result"
    }
   ],
   "source": [
    "# # Question 7  (1 point)\n",
    "# Please complete the script so that it prints out the first three items of list letters.\n",
    "\n",
    "letters[:3]"
   ]
  },
  {
   "cell_type": "code",
   "execution_count": 8,
   "metadata": {},
   "outputs": [
    {
     "data": {
      "text/plain": [
       "'i'"
      ]
     },
     "execution_count": 8,
     "metadata": {},
     "output_type": "execute_result"
    }
   ],
   "source": [
    "# Question 8 (1 point)\n",
    "\n",
    "# Complete the script so that it prints out letter i  using negative indexing.\n",
    "\n",
    "letters[-2]"
   ]
  },
  {
   "cell_type": "code",
   "execution_count": 9,
   "metadata": {},
   "outputs": [
    {
     "data": {
      "text/plain": [
       "['h', 'i', 'j']"
      ]
     },
     "execution_count": 9,
     "metadata": {},
     "output_type": "execute_result"
    }
   ],
   "source": [
    "# Question 9 (1 point)\n",
    "# Complete the script so that it prints out a list slice containing the last three items of list letters .\n",
    "\n",
    "letters[7:]"
   ]
  },
  {
   "cell_type": "code",
   "execution_count": 10,
   "metadata": {},
   "outputs": [
    {
     "data": {
      "text/plain": [
       "['a', 'c', 'e', 'g', 'i']"
      ]
     },
     "execution_count": 10,
     "metadata": {},
     "output_type": "execute_result"
    }
   ],
   "source": [
    "# # Question 10 (2 points)\n",
    "# Complete the script so that it prints out a list slice containing letters a, c, e, g, and i. \n",
    "\n",
    "letters[::2]"
   ]
  },
  {
   "cell_type": "code",
   "execution_count": 16,
   "metadata": {},
   "outputs": [
    {
     "name": "stdout",
     "output_type": "stream",
     "text": [
      "[0, 1, 2, 3, 4, 5, 6, 7, 8, 9, 10, 11, 12, 13, 14, 15, 16, 17, 18, 19]\n"
     ]
    }
   ],
   "source": [
    "# Question 11 (1 point)\n",
    "\n",
    "# Create a list from 1 to 20\n",
    "\n",
    "print(list(range(0,20)))"
   ]
  },
  {
   "cell_type": "code",
   "execution_count": 28,
   "metadata": {},
   "outputs": [
    {
     "data": {
      "text/plain": [
       "[0,\n",
       " 10,\n",
       " 20,\n",
       " 30,\n",
       " 40,\n",
       " 50,\n",
       " 60,\n",
       " 70,\n",
       " 80,\n",
       " 90,\n",
       " 100,\n",
       " 110,\n",
       " 120,\n",
       " 130,\n",
       " 140,\n",
       " 150,\n",
       " 160,\n",
       " 170,\n",
       " 180,\n",
       " 190,\n",
       " 200]"
      ]
     },
     "execution_count": 28,
     "metadata": {},
     "output_type": "execute_result"
    }
   ],
   "source": [
    "# Question 12 (1 point)\n",
    "\n",
    "# Complete the script so that it produces the expected output. Please use my_range  as input data.\n",
    "\n",
    "[10 * num for num in list(range(0,21))]"
   ]
  },
  {
   "cell_type": "code",
   "execution_count": 32,
   "metadata": {},
   "outputs": [
    {
     "name": "stdout",
     "output_type": "stream",
     "text": [
      "['1', '2', '3', '4', '5', '6', '7', '8', '9', '10', '11', '12', '13', '14', '15', '16', '17', '18', '19', '20']\n"
     ]
    }
   ],
   "source": [
    "# Question 13 (FAILED)\n",
    "\n",
    "my_range = list(range(1,21))\n",
    "print(list(map(str, my_range)))"
   ]
  },
  {
   "cell_type": "code",
   "execution_count": 36,
   "metadata": {},
   "outputs": [
    {
     "data": {
      "text/plain": [
       "[1, 2, '1']"
      ]
     },
     "execution_count": 36,
     "metadata": {},
     "output_type": "execute_result"
    }
   ],
   "source": [
    "# Question 14 (2 points)\n",
    "\n",
    "# Complete the script so that it removes duplicate items from list a .\n",
    "\n",
    "a = [\"1\", 1, \"1\", 2]\n",
    "\n",
    "list(set(a))"
   ]
  },
  {
   "cell_type": "code",
   "execution_count": 39,
   "metadata": {},
   "outputs": [],
   "source": [
    "# # Question 15 (1 point)\n",
    "\n",
    "# Create a dictionary that contains the keys a  and b  and their respective values 1  and 2 .\n",
    "\n",
    "d = {\n",
    "    \"a\": 1,\n",
    "    \"b\": 2\n",
    "    }"
   ]
  },
  {
   "cell_type": "code",
   "execution_count": 41,
   "metadata": {},
   "outputs": [
    {
     "data": {
      "text/plain": [
       "2"
      ]
     },
     "execution_count": 41,
     "metadata": {},
     "output_type": "execute_result"
    }
   ],
   "source": [
    "# Question 16 (1 point)\n",
    "\n",
    "# Please complete the script so that it prints out the value of key b .\n",
    "\n",
    "d = {\"a\": 1, \"b\": 2}\n",
    "\n",
    "d[\"b\"]"
   ]
  },
  {
   "cell_type": "code",
   "execution_count": 43,
   "metadata": {},
   "outputs": [
    {
     "data": {
      "text/plain": [
       "3"
      ]
     },
     "execution_count": 43,
     "metadata": {},
     "output_type": "execute_result"
    }
   ],
   "source": [
    "# Question 17 (1 point)\n",
    "\n",
    "# Question: Calculate the sum of the values of keys a  and b .\n",
    "\n",
    "d = {\"a\": 1, \"b\": 2, \"c\": 3}\n",
    "\n",
    "d[\"a\"] + d[\"b\"]"
   ]
  },
  {
   "cell_type": "code",
   "execution_count": 45,
   "metadata": {
    "collapsed": true
   },
   "outputs": [],
   "source": [
    "# Question 18 (1 point)\n",
    "\n",
    "# You obtain a key error due to not calling the key value pair correctly\n",
    "\n",
    "# d = {\"Name\": \"John\", \"Surname\": \"Smith}\n",
    "\n",
    "# Needs to be called as d(\"Surname\")"
   ]
  },
  {
   "cell_type": "code",
   "execution_count": 47,
   "metadata": {},
   "outputs": [
    {
     "data": {
      "text/plain": [
       "{'a': 1, 'b': 2, 'c': 3}"
      ]
     },
     "execution_count": 47,
     "metadata": {},
     "output_type": "execute_result"
    }
   ],
   "source": [
    "# Question 20 (2 points)\n",
    "\n",
    "# Add a new pair of key (e.g. c ) and value (e.g. 3 ) to the dictionary and print out the new dictionary.\n",
    "\n",
    "d[\"c\"] = 3\n",
    "d"
   ]
  },
  {
   "cell_type": "code",
   "execution_count": 52,
   "metadata": {},
   "outputs": [
    {
     "data": {
      "text/plain": [
       "6"
      ]
     },
     "execution_count": 52,
     "metadata": {},
     "output_type": "execute_result"
    }
   ],
   "source": [
    "# Question 21 (2 points)\n",
    "\n",
    "# Calculate the sum of all dictionary values.\n",
    "\n",
    "sum(d.values())"
   ]
  },
  {
   "cell_type": "code",
   "execution_count": 60,
   "metadata": {},
   "outputs": [
    {
     "data": {
      "text/plain": [
       "{'a': [1, 2, 3, 4, 5, 6, 7, 8, 9, 10],\n",
       " 'b': [11, 12, 13, 14, 15, 16, 17, 18, 19, 20],\n",
       " 'c': [21, 22, 23, 24, 25, 26, 27, 28, 29, 30]}"
      ]
     },
     "execution_count": 60,
     "metadata": {},
     "output_type": "execute_result"
    }
   ],
   "source": [
    "# Question 22 (1 point)\n",
    "\n",
    "# Create a dictionary with ranges 0 to 10, 10 to 20 and 20 to 30\n",
    "\n",
    "first_range = list(range(1,11))\n",
    "second_range = list(range(11,21))\n",
    "third_range = list(range(21,31))\n",
    "\n",
    "range_dict = {\n",
    "    \"a\": first_range,\n",
    "    \"b\": second_range,\n",
    "    \"c\": third_range\n",
    "}\n",
    "\n",
    "range_dict"
   ]
  },
  {
   "cell_type": "code",
   "execution_count": 65,
   "metadata": {},
   "outputs": [
    {
     "data": {
      "text/plain": [
       "13"
      ]
     },
     "execution_count": 65,
     "metadata": {},
     "output_type": "execute_result"
    }
   ],
   "source": [
    "# Question 23 (1 point)\n",
    "\n",
    "#  Access the third value of key b from the dictionary.\n",
    "\n",
    "from pprint import pprint\n",
    "\n",
    "range_dict[\"b\"][2]"
   ]
  },
  {
   "cell_type": "code",
   "execution_count": 71,
   "metadata": {},
   "outputs": [
    {
     "name": "stdout",
     "output_type": "stream",
     "text": [
      "a has value [1, 2, 3, 4, 5, 6, 7, 8, 9, 10]\n",
      "b has value [11, 12, 13, 14, 15, 16, 17, 18, 19, 20]\n",
      "c has value [21, 22, 23, 24, 25, 26, 27, 28, 29, 30]\n",
      "\n",
      "\n",
      "b has value  [11, 12, 13, 14, 15, 16, 17, 18, 19, 20]\n",
      "c has value  [21, 22, 23, 24, 25, 26, 27, 28, 29, 30]\n",
      "a has value  [1, 2, 3, 4, 5, 6, 7, 8, 9, 10]\n"
     ]
    }
   ],
   "source": [
    "# Question 24 (FAILED - Needed For Loop instead)\n",
    "\n",
    "for key, value in range_dict.items():\n",
    "    print(key, \"has value\", value)\n",
    "\n",
    "print(\"\\n\")\n",
    "\n",
    "print(\"b has value \",  range_dict[\"b\"])\n",
    "print(\"c has value \",  range_dict[\"c\"])\n",
    "print(\"a has value \",  range_dict[\"a\"])"
   ]
  },
  {
   "cell_type": "code",
   "execution_count": 73,
   "metadata": {},
   "outputs": [
    {
     "name": "stdout",
     "output_type": "stream",
     "text": [
      "a\n",
      "b\n",
      "c\n",
      "d\n",
      "e\n",
      "f\n",
      "g\n",
      "h\n",
      "i\n",
      "j\n",
      "k\n",
      "l\n",
      "m\n",
      "n\n",
      "o\n",
      "p\n",
      "q\n",
      "r\n",
      "s\n",
      "t\n",
      "u\n",
      "v\n",
      "w\n",
      "x\n",
      "y\n",
      "z\n"
     ]
    }
   ],
   "source": [
    "# Question 25 (1 point)\n",
    "\n",
    "import string\n",
    " \n",
    "for letter in string.ascii_lowercase:\n",
    "    print(letter)"
   ]
  },
  {
   "cell_type": "code",
   "execution_count": 78,
   "metadata": {},
   "outputs": [
    {
     "name": "stdout",
     "output_type": "stream",
     "text": [
      "1\n",
      "2\n",
      "3\n",
      "4\n",
      "5\n",
      "6\n",
      "7\n",
      "8\n",
      "9\n",
      "10\n"
     ]
    }
   ],
   "source": [
    "# Question 26 (1 point)\n",
    "\n",
    "new_range = list(range(1,11))\n",
    "\n",
    "for i in new_range:\n",
    "    print(i)"
   ]
  },
  {
   "cell_type": "code",
   "execution_count": 81,
   "metadata": {},
   "outputs": [
    {
     "data": {
      "text/plain": [
       "0.5"
      ]
     },
     "execution_count": 81,
     "metadata": {},
     "output_type": "execute_result"
    }
   ],
   "source": [
    "# Question 27 (1 point)\n",
    "\n",
    "# Create a function that calculates acceleration given initial velocity v1, final velocity v2, start time t1, and end time t2.\n",
    "\n",
    "def velocity(v_2, v_1, t_2, t_1):\n",
    "    accelleration = (v_2 - v_1) / (t_2 - t_1)\n",
    "    return accelleration\n",
    "\n",
    "velocity(0,10,0,20)"
   ]
  },
  {
   "cell_type": "code",
   "execution_count": 84,
   "metadata": {},
   "outputs": [],
   "source": [
    "# Question 28 (2 points)\n",
    "\n",
    "# Functions have to return something. Not neccessarily print"
   ]
  },
  {
   "cell_type": "code",
   "execution_count": 89,
   "metadata": {},
   "outputs": [
    {
     "data": {
      "text/plain": [
       "4069.4400000000005"
      ]
     },
     "execution_count": 89,
     "metadata": {},
     "output_type": "execute_result"
    }
   ],
   "source": [
    "# Question 29 (2 points)\n",
    "\n",
    "# Write a function that calculates liquid volume\n",
    "\n",
    "def liquid_volume(h):\n",
    "    r = 10\n",
    "    lv = ((4*3.14*r**3)/3) - ((3.14*h**2*(3*r - h))/3)\n",
    "    return lv\n",
    "\n",
    "liquid_volume(2)"
   ]
  },
  {
   "cell_type": "code",
   "execution_count": 91,
   "metadata": {
    "collapsed": true
   },
   "outputs": [],
   "source": [
    "# Question 30 (1 point)\n",
    "\n",
    "# This will give you an error due to not having a in the function itself\n",
    "\n",
    "# def foo(a=2, b):\n",
    "#     return a + b"
   ]
  },
  {
   "cell_type": "code",
   "execution_count": 92,
   "metadata": {
    "collapsed": true
   },
   "outputs": [],
   "source": [
    "# Question 31 (SKIPPED)\n",
    "\n"
   ]
  },
  {
   "cell_type": "code",
   "execution_count": 94,
   "metadata": {
    "collapsed": true
   },
   "outputs": [],
   "source": [
    "# # Question 32 (2 points)\n",
    "\n",
    "# What will the following script output? Please try to do this mentally if you can.\n",
    "\n",
    "# c = 1\n",
    "# def foo():\n",
    "#     return c\n",
    "# c = 3\n",
    "# print(foo())\n",
    "\n",
    "# This will return 3"
   ]
  },
  {
   "cell_type": "code",
   "execution_count": 96,
   "metadata": {
    "collapsed": true
   },
   "outputs": [],
   "source": [
    "# Question 33 (FAILED)"
   ]
  },
  {
   "cell_type": "code",
   "execution_count": 101,
   "metadata": {},
   "outputs": [
    {
     "name": "stdout",
     "output_type": "stream",
     "text": [
      "1\n"
     ]
    }
   ],
   "source": [
    "# Question 34\n",
    "\n",
    "# The following script throws a NameError  in the last line saying that c  is not defined. Please fix the function so that there is no error and the last line is able to print out the value of c  (i.e. 1 ).\n",
    "\n",
    "# def foo(): \n",
    "#     c = 1 \n",
    "#     return c \n",
    "# foo() \n",
    "# print(c)\n",
    "\n",
    "def foo(): \n",
    "    c = 1 \n",
    "    return c \n",
    "foo() \n",
    "print(foo())"
   ]
  },
  {
   "cell_type": "code",
   "execution_count": 105,
   "metadata": {},
   "outputs": [
    {
     "data": {
      "text/plain": [
       "4"
      ]
     },
     "execution_count": 105,
     "metadata": {},
     "output_type": "execute_result"
    }
   ],
   "source": [
    "# Question 35 (2 points)\n",
    "\n",
    "# Create a function that takes any string as input and returns the number of words for that string.\n",
    "\n",
    "def split(str):\n",
    "    return len(str.split())\n",
    "    \n",
    "split(\"This is a string\")"
   ]
  },
  {
   "cell_type": "code",
   "execution_count": 108,
   "metadata": {},
   "outputs": [
    {
     "name": "stdout",
     "output_type": "stream",
     "text": [
      "10\n"
     ]
    }
   ],
   "source": [
    "# Question 36 (FAILED)\n",
    "\n",
    "def count_words(filepath):\n",
    "    with open(filepath, 'r') as file:\n",
    "        strng = file.read()\n",
    "        strng_list = strng.split(\" \")\n",
    "        return len(strng_list)\n",
    " \n",
    "print(count_words(\"words1.txt\"))"
   ]
  },
  {
   "cell_type": "code",
   "execution_count": 116,
   "metadata": {},
   "outputs": [
    {
     "data": {
      "text/plain": [
       "59"
      ]
     },
     "execution_count": 116,
     "metadata": {},
     "output_type": "execute_result"
    }
   ],
   "source": [
    "# Question 37 (3 points)\n",
    "\n",
    "def count_words(filepath):\n",
    "    with open(filepath, 'r') as file:\n",
    "        strng = file.read()\n",
    "        strng.replace(\",\", \" \")\n",
    "        return len(strng)\n",
    "    \n",
    "count_words(\"words2.txt\")"
   ]
  },
  {
   "cell_type": "code",
   "execution_count": 118,
   "metadata": {},
   "outputs": [
    {
     "data": {
      "text/plain": [
       "3.0"
      ]
     },
     "execution_count": 118,
     "metadata": {},
     "output_type": "execute_result"
    }
   ],
   "source": [
    "# Question 38 (1 point)\n",
    "# The following code is supposed to print out the square root of 9, \n",
    "# but it throws an error instead because another line before that is missing. \n",
    "# Please fix the script so that it prints out the square root of 9.\n",
    "\n",
    "import math\n",
    "\n",
    "math.sqrt(9)"
   ]
  },
  {
   "cell_type": "code",
   "execution_count": null,
   "metadata": {
    "collapsed": true
   },
   "outputs": [],
   "source": []
  }
 ],
 "metadata": {
  "kernelspec": {
   "display_name": "Python 3",
   "language": "python",
   "name": "python3"
  },
  "language_info": {
   "codemirror_mode": {
    "name": "ipython",
    "version": 3
   },
   "file_extension": ".py",
   "mimetype": "text/x-python",
   "name": "python",
   "nbconvert_exporter": "python",
   "pygments_lexer": "ipython3",
   "version": "3.6.3"
  }
 },
 "nbformat": 4,
 "nbformat_minor": 2
}
